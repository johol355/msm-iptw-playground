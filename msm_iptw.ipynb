{
 "cells": [
  {
   "cell_type": "code",
   "execution_count": 1,
   "metadata": {},
   "outputs": [],
   "source": [
    "import statsmodels as sm\n",
    "import pandas as pd\n",
    "import numpy as np\n",
    "import matplotlib.pyplot as plt\n",
    "import seaborn as sns"
   ]
  },
  {
   "cell_type": "markdown",
   "metadata": {},
   "source": [
    "# Marginal structural models (MSM), frequentist approach\n",
    "## IPTW based MSM ad modum Andrew Heiss\n",
    "This is a python conversion of Andrew Heiss' blog post on IPTW based MSM's here: https://www.andrewheiss.com/blog/2020/12/03/ipw-tscs-msm/\n",
    "Andrew's generated data will be used. The dataset simulates the effects of the 6-hour working day policy (binary treatment) and number of vacation days (cont. treatment) on happiness in several (fake) countries. The underlying DAG is this: https://www.andrewheiss.com/blog/2020/12/03/ipw-tscs-msm/index_files/figure-html/dag-complex-1.png"
   ]
  },
  {
   "cell_type": "code",
   "execution_count": 5,
   "metadata": {},
   "outputs": [],
   "source": [
    "data = pd.read_csv('https://www.andrewheiss.com/blog/2020/12/03/ipw-tscs-msm/happiness_data.csv')"
   ]
  },
  {
   "cell_type": "markdown",
   "metadata": {},
   "source": [
    "## Binary treatment MSM/IPTW\n",
    "### Underlying question\n",
    "What is the effect of implementing the 6-hour working day on happiness?\n",
    "### IPTW for binary treatment\n",
    "\n",
    "$\\text{unstabilized binary IPW}_{it} = \\prod_{t=1}^{t} \\frac{1}{P(X_{it} | \\bar{X}_{i,t-1}, Y_{i,t-1}, C_{it}, V_{i})}$, where\n",
    "\n",
    " - ${i}$ is the individual country\n",
    " - ${t}$ it the timestep, ${X_{it}}$ is an observed treatment assignment for ${i}$ at ${t}$\n",
    " - $\\bar{X}_{i,t-1}$ are the observed treatment assignments for ${i}$ <b>up until</b> ${t-1}$\n",
    " - ${Y}_{i,t-1}$ is the observed outcome ${i}$ at ${t-1}$, $C_{it}$ are the time varying confounders for ${i}$ at ${t}$\n",
    " - $V_{i}$ are the time invariant (constant) confounders for ${i}$.\n",
    "\n",
    "\n",
    "<b>Read as:</b> \"inverse probability of treatment given all previous treatment assignments, the outcome of interest at the previous timestep, the current time varying confounders and the constant confounders\"\n",
    "\n",
    "However, these weights need to be stabilized. This is done by a modifying the numerator:\n",
    "\n",
    "$\\text{stabilized binary IPW}_{it} = \\prod_{t=1}^{t} \\frac{P(X_{it} | \\bar{X}_{i,t-1}, V_{i})}{P(X_{it})| \\bar{X}_{i,t-1}, Y_{i,t-1}, C_{it}, V_{i})}$\n",
    "\n",
    "### "
   ]
  },
  {
   "cell_type": "code",
   "execution_count": null,
   "metadata": {},
   "outputs": [],
   "source": []
  },
  {
   "cell_type": "code",
   "execution_count": null,
   "metadata": {},
   "outputs": [],
   "source": []
  }
 ],
 "metadata": {
  "kernelspec": {
   "display_name": "Python 3.9.13 ('myenv')",
   "language": "python",
   "name": "python3"
  },
  "language_info": {
   "codemirror_mode": {
    "name": "ipython",
    "version": 3
   },
   "file_extension": ".py",
   "mimetype": "text/x-python",
   "name": "python",
   "nbconvert_exporter": "python",
   "pygments_lexer": "ipython3",
   "version": "3.9.13"
  },
  "orig_nbformat": 4,
  "vscode": {
   "interpreter": {
    "hash": "14bdb3200726c7c15f07af1a48e91911d8ce5614bbcad0cbd23f034220337cd0"
   }
  }
 },
 "nbformat": 4,
 "nbformat_minor": 2
}
